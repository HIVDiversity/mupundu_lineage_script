{
 "cells": [
  {
   "cell_type": "code",
   "execution_count": 57,
   "metadata": {},
   "outputs": [],
   "source": [
    "import polars as pl"
   ]
  },
  {
   "cell_type": "code",
   "execution_count": 76,
   "metadata": {},
   "outputs": [],
   "source": [
    "seq_names = [\"a_c_60_NNNNNNNN_mx3\", \"a_c_65_pblibTACTGGCT_mx3\", \"a_c_30_BNNNNNNN_mx1\"]"
   ]
  },
  {
   "cell_type": "code",
   "execution_count": 77,
   "metadata": {},
   "outputs": [],
   "source": [
    "df = pl.DataFrame({\"raw_name\":seq_names})"
   ]
  },
  {
   "cell_type": "code",
   "execution_count": 78,
   "metadata": {},
   "outputs": [],
   "source": [
    "df = df.with_columns(split_name=pl.col(\"raw_name\").str.split(\"_\"))"
   ]
  },
  {
   "cell_type": "code",
   "execution_count": 79,
   "metadata": {},
   "outputs": [
    {
     "data": {
      "text/html": [
       "<div><style>\n",
       ".dataframe > thead > tr,\n",
       ".dataframe > tbody > tr {\n",
       "  text-align: right;\n",
       "  white-space: pre-wrap;\n",
       "}\n",
       "</style>\n",
       "<small>shape: (3, 2)</small><table border=\"1\" class=\"dataframe\"><thead><tr><th>raw_name</th><th>split_name</th></tr><tr><td>str</td><td>list[str]</td></tr></thead><tbody><tr><td>&quot;a_c_60_NNNNNNNN_mx3&quot;</td><td>[&quot;a&quot;, &quot;c&quot;, … &quot;mx3&quot;]</td></tr><tr><td>&quot;a_c_65_pblibTACTGGCT_mx3&quot;</td><td>[&quot;a&quot;, &quot;c&quot;, … &quot;mx3&quot;]</td></tr><tr><td>&quot;a_c_30_BNNNNNNN_mx1&quot;</td><td>[&quot;a&quot;, &quot;c&quot;, … &quot;mx1&quot;]</td></tr></tbody></table></div>"
      ],
      "text/plain": [
       "shape: (3, 2)\n",
       "┌──────────────────────────┬─────────────────────┐\n",
       "│ raw_name                 ┆ split_name          │\n",
       "│ ---                      ┆ ---                 │\n",
       "│ str                      ┆ list[str]           │\n",
       "╞══════════════════════════╪═════════════════════╡\n",
       "│ a_c_60_NNNNNNNN_mx3      ┆ [\"a\", \"c\", … \"mx3\"] │\n",
       "│ a_c_65_pblibTACTGGCT_mx3 ┆ [\"a\", \"c\", … \"mx3\"] │\n",
       "│ a_c_30_BNNNNNNN_mx1      ┆ [\"a\", \"c\", … \"mx1\"] │\n",
       "└──────────────────────────┴─────────────────────┘"
      ]
     },
     "execution_count": 79,
     "metadata": {},
     "output_type": "execute_result"
    }
   ],
   "source": [
    "df"
   ]
  },
  {
   "cell_type": "code",
   "execution_count": 84,
   "metadata": {},
   "outputs": [],
   "source": [
    "df = df.with_columns(\n",
    "    lineage=pl.col(\"split_name\").list.get(-1),\n",
    "    timepoint=pl.col(\"split_name\").list.get(2),\n",
    "    umi=pl.col(\"split_name\").list.get(-2).str.slice(5,8),\n",
    ")"
   ]
  },
  {
   "cell_type": "code",
   "execution_count": 85,
   "metadata": {},
   "outputs": [
    {
     "data": {
      "text/html": [
       "<div><style>\n",
       ".dataframe > thead > tr,\n",
       ".dataframe > tbody > tr {\n",
       "  text-align: right;\n",
       "  white-space: pre-wrap;\n",
       "}\n",
       "</style>\n",
       "<small>shape: (3, 5)</small><table border=\"1\" class=\"dataframe\"><thead><tr><th>raw_name</th><th>split_name</th><th>lineage</th><th>timepoint</th><th>umi</th></tr><tr><td>str</td><td>list[str]</td><td>str</td><td>str</td><td>str</td></tr></thead><tbody><tr><td>&quot;a_c_60_NNNNNNNN_mx3&quot;</td><td>[&quot;a&quot;, &quot;c&quot;, … &quot;mx3&quot;]</td><td>&quot;mx3&quot;</td><td>&quot;60&quot;</td><td>&quot;NNN&quot;</td></tr><tr><td>&quot;a_c_65_pblibTACTGGCT_mx3&quot;</td><td>[&quot;a&quot;, &quot;c&quot;, … &quot;mx3&quot;]</td><td>&quot;mx3&quot;</td><td>&quot;65&quot;</td><td>&quot;TACTGGCT&quot;</td></tr><tr><td>&quot;a_c_30_BNNNNNNN_mx1&quot;</td><td>[&quot;a&quot;, &quot;c&quot;, … &quot;mx1&quot;]</td><td>&quot;mx1&quot;</td><td>&quot;30&quot;</td><td>&quot;NNN&quot;</td></tr></tbody></table></div>"
      ],
      "text/plain": [
       "shape: (3, 5)\n",
       "┌──────────────────────────┬─────────────────────┬─────────┬───────────┬──────────┐\n",
       "│ raw_name                 ┆ split_name          ┆ lineage ┆ timepoint ┆ umi      │\n",
       "│ ---                      ┆ ---                 ┆ ---     ┆ ---       ┆ ---      │\n",
       "│ str                      ┆ list[str]           ┆ str     ┆ str       ┆ str      │\n",
       "╞══════════════════════════╪═════════════════════╪═════════╪═══════════╪══════════╡\n",
       "│ a_c_60_NNNNNNNN_mx3      ┆ [\"a\", \"c\", … \"mx3\"] ┆ mx3     ┆ 60        ┆ NNN      │\n",
       "│ a_c_65_pblibTACTGGCT_mx3 ┆ [\"a\", \"c\", … \"mx3\"] ┆ mx3     ┆ 65        ┆ TACTGGCT │\n",
       "│ a_c_30_BNNNNNNN_mx1      ┆ [\"a\", \"c\", … \"mx1\"] ┆ mx1     ┆ 30        ┆ NNN      │\n",
       "└──────────────────────────┴─────────────────────┴─────────┴───────────┴──────────┘"
      ]
     },
     "execution_count": 85,
     "metadata": {},
     "output_type": "execute_result"
    }
   ],
   "source": [
    "df"
   ]
  },
  {
   "cell_type": "code",
   "execution_count": 46,
   "metadata": {},
   "outputs": [],
   "source": [
    "all_timepoints = sorted(df[\"timepoint\"].unique().to_list())\n",
    "all_lineages = sorted(df[\"lineage\"].unique().to_list())"
   ]
  },
  {
   "cell_type": "code",
   "execution_count": 47,
   "metadata": {},
   "outputs": [],
   "source": [
    "df = df.with_columns(\n",
    "    lineage_num=pl.col(\"lineage\").map_elements(\n",
    "        lambda x: all_lineages.index(x) + 1, return_dtype=int\n",
    "    ),\n",
    "    timepoint_num=pl.col(\"timepoint\").map_elements(\n",
    "        lambda x: all_timepoints.index(x) + 1, return_dtype=int\n",
    "    ),\n",
    ")"
   ]
  },
  {
   "cell_type": "code",
   "execution_count": 52,
   "metadata": {},
   "outputs": [],
   "source": [
    "df = df.with_columns(new_names=pl.col(\"umi\")+\"_TP\"+pl.col(\"lineage_num\").cast(str))"
   ]
  },
  {
   "cell_type": "code",
   "execution_count": 55,
   "metadata": {},
   "outputs": [
    {
     "data": {
      "text/html": [
       "<div><style>\n",
       ".dataframe > thead > tr,\n",
       ".dataframe > tbody > tr {\n",
       "  text-align: right;\n",
       "  white-space: pre-wrap;\n",
       "}\n",
       "</style>\n",
       "<small>shape: (3, 3)</small><table border=\"1\" class=\"dataframe\"><thead><tr><th>new_names</th><th>lineage_num</th><th>lineage</th></tr><tr><td>str</td><td>i64</td><td>str</td></tr></thead><tbody><tr><td>&quot;NNNNNNNN_TP2&quot;</td><td>2</td><td>&quot;mx3&quot;</td></tr><tr><td>&quot;NNNNNANN_TP2&quot;</td><td>2</td><td>&quot;mx3&quot;</td></tr><tr><td>&quot;BNNNNNNN_TP1&quot;</td><td>1</td><td>&quot;mx1&quot;</td></tr></tbody></table></div>"
      ],
      "text/plain": [
       "shape: (3, 3)\n",
       "┌──────────────┬─────────────┬─────────┐\n",
       "│ new_names    ┆ lineage_num ┆ lineage │\n",
       "│ ---          ┆ ---         ┆ ---     │\n",
       "│ str          ┆ i64         ┆ str     │\n",
       "╞══════════════╪═════════════╪═════════╡\n",
       "│ NNNNNNNN_TP2 ┆ 2           ┆ mx3     │\n",
       "│ NNNNNANN_TP2 ┆ 2           ┆ mx3     │\n",
       "│ BNNNNNNN_TP1 ┆ 1           ┆ mx1     │\n",
       "└──────────────┴─────────────┴─────────┘"
      ]
     },
     "execution_count": 55,
     "metadata": {},
     "output_type": "execute_result"
    }
   ],
   "source": [
    "df.select(pl.col(\"new_names\", \"lineage_num\", \"lineage\"))"
   ]
  },
  {
   "cell_type": "code",
   "execution_count": null,
   "metadata": {},
   "outputs": [
    {
     "ename": "ModuleNotFoundError",
     "evalue": "No module named 'numpy'",
     "output_type": "error",
     "traceback": [
      "\u001b[31m---------------------------------------------------------------------------\u001b[39m",
      "\u001b[31mModuleNotFoundError\u001b[39m                       Traceback (most recent call last)",
      "\u001b[36mCell\u001b[39m\u001b[36m \u001b[39m\u001b[32mIn[87]\u001b[39m\u001b[32m, line 1\u001b[39m\n\u001b[32m----> \u001b[39m\u001b[32m1\u001b[39m \u001b[38;5;28;01mimport\u001b[39;00m\u001b[38;5;250m \u001b[39m\u001b[34;01mnumpy\u001b[39;00m\u001b[38;5;250m \u001b[39m\u001b[38;5;28;01mas\u001b[39;00m\u001b[38;5;250m \u001b[39m\u001b[34;01mnp\u001b[39;00m\n",
      "\u001b[31mModuleNotFoundError\u001b[39m: No module named 'numpy'"
     ]
    }
   ],
   "source": []
  },
  {
   "cell_type": "code",
   "execution_count": 100,
   "metadata": {},
   "outputs": [
    {
     "name": "stdout",
     "output_type": "stream",
     "text": [
      "['a_this_should_be1', 'lineage_a', 'lineage_b', 'z_this_should_be_last']\n",
      "lineage_a | index: | 2\n",
      "lineage_b | index: | 3\n",
      "a_this_should_be1 | index: | 1\n",
      "lineage_b | index: | 3\n",
      "lineage_b | index: | 3\n",
      "z_this_should_be_last | index: | 4\n",
      "a_this_should_be1 | index: | 1\n",
      "a_this_should_be1 | index: | 1\n",
      "a_this_should_be1 | index: | 1\n",
      "lineage_a | index: | 2\n"
     ]
    }
   ],
   "source": [
    "lineages = [\n",
    "    \"lineage_a\",\n",
    "    \"lineage_b\",\n",
    "    \"a_this_should_be1\",\n",
    "    \"lineage_b\",\n",
    "    \"lineage_b\",\n",
    "    \"z_this_should_be_last\",\n",
    "    \"a_this_should_be1\",\n",
    "    \"a_this_should_be1\",\n",
    "    \"a_this_should_be1\",\n",
    "    \"lineage_a\",\n",
    "]\n",
    "unique_lineages = sorted(list(set(lineages)))\n",
    "print(unique_lineages)\n",
    "\n",
    "for l in lineages:\n",
    "    print(\" | \".join([l, \"index:\", str(unique_lineages.index(l) + 1)]))\n",
    "    \n"
   ]
  },
  {
   "cell_type": "code",
   "execution_count": null,
   "metadata": {},
   "outputs": [
    {
     "name": "stdout",
     "output_type": "stream",
     "text": [
      "['a_this_should_be1', 'lineage_a', 'lineage_b', 'z_this_should_be_last']\n"
     ]
    }
   ],
   "source": []
  },
  {
   "cell_type": "code",
   "execution_count": null,
   "metadata": {},
   "outputs": [],
   "source": []
  },
  {
   "cell_type": "code",
   "execution_count": null,
   "metadata": {},
   "outputs": [
    {
     "data": {
      "text/plain": [
       "[('lineage_a', 2),\n",
       " ('lineage_b', 3),\n",
       " ('a_this_should_be1', 1),\n",
       " ('lineage_b', 3),\n",
       " ('lineage_b', 3),\n",
       " ('z_this_should_be_last', 4),\n",
       " ('a_this_should_be1', 1),\n",
       " ('a_this_should_be1', 1),\n",
       " ('a_this_should_be1', 1),\n",
       " ('lineage_a', 2)]"
      ]
     },
     "execution_count": 93,
     "metadata": {},
     "output_type": "execute_result"
    }
   ],
   "source": []
  },
  {
   "cell_type": "code",
   "execution_count": null,
   "metadata": {},
   "outputs": [],
   "source": []
  }
 ],
 "metadata": {
  "kernelspec": {
   "display_name": ".venv",
   "language": "python",
   "name": "python3"
  },
  "language_info": {
   "codemirror_mode": {
    "name": "ipython",
    "version": 3
   },
   "file_extension": ".py",
   "mimetype": "text/x-python",
   "name": "python",
   "nbconvert_exporter": "python",
   "pygments_lexer": "ipython3",
   "version": "3.12.0"
  }
 },
 "nbformat": 4,
 "nbformat_minor": 2
}
